{
 "cells": [
  {
   "cell_type": "code",
   "execution_count": 2,
   "id": "0b81a9a5",
   "metadata": {},
   "outputs": [],
   "source": [
    "import pandas as pd\n",
    "import numpy as np"
   ]
  },
  {
   "cell_type": "code",
   "execution_count": 3,
   "id": "01782b20",
   "metadata": {},
   "outputs": [
    {
     "name": "stdout",
     "output_type": "stream",
     "text": [
      "Hi\n"
     ]
    }
   ],
   "source": [
    "print('Hi')"
   ]
  },
  {
   "cell_type": "code",
   "execution_count": 8,
   "id": "f8868b03",
   "metadata": {},
   "outputs": [
    {
     "name": "stdout",
     "output_type": "stream",
     "text": [
      "     client_status       source mql_created_date\n",
      "0              SQL        Email         4/1/2019\n",
      "1              SQL        Email         4/1/2019\n",
      "2              SQL        Email         4/1/2019\n",
      "3              SQL        Email         4/1/2019\n",
      "4              SQL        Email         4/1/2019\n",
      "...            ...          ...              ...\n",
      "2154           SQL  Paid Social        4/27/2019\n",
      "2155           MQL  Paid Social        4/27/2019\n",
      "2156           SQL  Paid Social        4/27/2019\n",
      "2157           SQL  Paid Social        4/27/2019\n",
      "2158           MQL  Paid Social        4/27/2019\n",
      "\n",
      "[2159 rows x 3 columns]\n",
      "(2159, 3)\n"
     ]
    }
   ],
   "source": [
    "data = pd.read_csv('Verkada_Data.csv', sep=';')\n",
    "print(data)\n",
    "print(data.shape)"
   ]
  }
 ],
 "metadata": {
  "kernelspec": {
   "display_name": "Python 3 (ipykernel)",
   "language": "python",
   "name": "python3"
  },
  "language_info": {
   "codemirror_mode": {
    "name": "ipython",
    "version": 3
   },
   "file_extension": ".py",
   "mimetype": "text/x-python",
   "name": "python",
   "nbconvert_exporter": "python",
   "pygments_lexer": "ipython3",
   "version": "3.11.4"
  }
 },
 "nbformat": 4,
 "nbformat_minor": 5
}
